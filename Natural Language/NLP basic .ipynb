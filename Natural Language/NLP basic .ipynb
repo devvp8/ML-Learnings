{
 "cells": [
  {
   "cell_type": "code",
   "execution_count": 1,
   "id": "24f679d3",
   "metadata": {},
   "outputs": [],
   "source": [
    "import nltk\n",
    "import re\n",
    "from nltk.stem import PorterStemmer\n",
    "from nltk.corpus import stopwords"
   ]
  },
  {
   "cell_type": "code",
   "execution_count": 2,
   "id": "d8411950",
   "metadata": {},
   "outputs": [
    {
     "name": "stderr",
     "output_type": "stream",
     "text": [
      "[nltk_data] Downloading package punkt to C:\\Users\\Dev Atul\n",
      "[nltk_data]     Patel\\AppData\\Roaming\\nltk_data...\n",
      "[nltk_data]   Unzipping tokenizers\\punkt.zip.\n",
      "[nltk_data] Downloading package stopwords to C:\\Users\\Dev Atul\n",
      "[nltk_data]     Patel\\AppData\\Roaming\\nltk_data...\n",
      "[nltk_data]   Unzipping corpora\\stopwords.zip.\n",
      "[nltk_data] Downloading package wordnet to C:\\Users\\Dev Atul\n",
      "[nltk_data]     Patel\\AppData\\Roaming\\nltk_data...\n",
      "[nltk_data] Downloading package omw-1.4 to C:\\Users\\Dev Atul\n",
      "[nltk_data]     Patel\\AppData\\Roaming\\nltk_data...\n"
     ]
    },
    {
     "data": {
      "text/plain": [
       "True"
      ]
     },
     "execution_count": 2,
     "metadata": {},
     "output_type": "execute_result"
    }
   ],
   "source": [
    "nltk.download('punkt')\n",
    "nltk.download('stopwords')\n",
    "nltk.download('wordnet')\n",
    "nltk.download('omw-1.4')"
   ]
  },
  {
   "cell_type": "code",
   "execution_count": 45,
   "id": "2a1914b0",
   "metadata": {},
   "outputs": [],
   "source": [
    "sen=nltk.sent_tokenize('We all were studying whole night before exam and got passed.')"
   ]
  },
  {
   "cell_type": "code",
   "execution_count": 46,
   "id": "91611138",
   "metadata": {},
   "outputs": [],
   "source": [
    "stemmer=PorterStemmer()"
   ]
  },
  {
   "cell_type": "code",
   "execution_count": 47,
   "id": "4584dc60",
   "metadata": {},
   "outputs": [],
   "source": [
    "from nltk.stem import WordNetLemmatizer\n",
    "lemmatizer=WordNetLemmatizer()"
   ]
  },
  {
   "cell_type": "code",
   "execution_count": 48,
   "id": "a74fe3d2",
   "metadata": {},
   "outputs": [],
   "source": [
    "up_sen = []\n",
    "for i in range(len(sen)):\n",
    "    rev = re.sub('[^a-zA-Z]', ' ',sen[i])\n",
    "    rev = rev.lower()\n",
    "    up_sen.append(rev)"
   ]
  },
  {
   "cell_type": "code",
   "execution_count": 49,
   "id": "16f83f39",
   "metadata": {},
   "outputs": [
    {
     "data": {
      "text/plain": [
       "['we all were studying whole night before exam and got passed ']"
      ]
     },
     "execution_count": 49,
     "metadata": {},
     "output_type": "execute_result"
    }
   ],
   "source": [
    "up_sen"
   ]
  },
  {
   "cell_type": "markdown",
   "id": "68341b15",
   "metadata": {},
   "source": [
    "## Stemming"
   ]
  },
  {
   "cell_type": "code",
   "execution_count": 51,
   "id": "6b3918b8",
   "metadata": {},
   "outputs": [],
   "source": [
    "corpus=[]\n",
    "for i in up_sen:\n",
    "    words=nltk.word_tokenize(i)\n",
    "    l=[]\n",
    "    for word in words:\n",
    "        if word not in set(stopwords.words('english')):\n",
    "           l.append(stemmer.stem(word))\n",
    "    corpus.append(l)        "
   ]
  },
  {
   "cell_type": "code",
   "execution_count": 52,
   "id": "75c7fb57",
   "metadata": {},
   "outputs": [
    {
     "name": "stdout",
     "output_type": "stream",
     "text": [
      "[['studi', 'whole', 'night', 'exam', 'got', 'pass']]\n"
     ]
    }
   ],
   "source": [
    "print (corpus)"
   ]
  },
  {
   "cell_type": "markdown",
   "id": "23cb304b",
   "metadata": {},
   "source": [
    "## Lemmatization"
   ]
  },
  {
   "cell_type": "code",
   "execution_count": 53,
   "id": "d864a6e7",
   "metadata": {},
   "outputs": [],
   "source": [
    "corpus2=[]\n",
    "for i in up_sen:\n",
    "    words=nltk.word_tokenize(i)\n",
    "    l=[]\n",
    "    for word in words:\n",
    "        if word not in set(stopwords.words('english')):\n",
    "           l.append(stemmer.stem(word))\n",
    "    corpus2.append(l) "
   ]
  },
  {
   "cell_type": "code",
   "execution_count": 54,
   "id": "ce1dccea",
   "metadata": {},
   "outputs": [
    {
     "name": "stdout",
     "output_type": "stream",
     "text": [
      "we all were studying whole night before exam and got passed \n"
     ]
    }
   ],
   "source": [
    "print (i)"
   ]
  },
  {
   "cell_type": "code",
   "execution_count": 55,
   "id": "5ee9dac6",
   "metadata": {},
   "outputs": [
    {
     "name": "stdout",
     "output_type": "stream",
     "text": [
      "[['studi', 'whole', 'night', 'exam', 'got', 'pass']]\n"
     ]
    }
   ],
   "source": [
    "print(corpus2)"
   ]
  },
  {
   "cell_type": "markdown",
   "id": "11cdef7a",
   "metadata": {},
   "source": [
    "## BoW"
   ]
  },
  {
   "cell_type": "code",
   "execution_count": 57,
   "id": "e757b24d",
   "metadata": {},
   "outputs": [],
   "source": [
    "# all steps in one method \n",
    "corp=[]\n",
    "for i in range(len(sen)):\n",
    "   rev = re.sub('^a-zA-Z', ' ', sen[i])\n",
    "   rev = rev.lower()\n",
    "   rev = nltk.word_tokenize(rev)\n",
    "   rev = [lemmatizer.lemmatize(word) for word in rev if word not in set(stopwords.words('english'))]\n",
    "   rev = ' '.join(rev)\n",
    "   corp.append(rev)"
   ]
  },
  {
   "cell_type": "code",
   "execution_count": 58,
   "id": "680dbe8d",
   "metadata": {},
   "outputs": [],
   "source": [
    "from sklearn.feature_extraction.text import CountVectorizer\n",
    "cv=CountVectorizer(ngram_range=(2,3),max_features=10)"
   ]
  },
  {
   "cell_type": "code",
   "execution_count": 59,
   "id": "7279f832",
   "metadata": {},
   "outputs": [],
   "source": [
    "x=cv.fit_transform(corp)"
   ]
  },
  {
   "cell_type": "code",
   "execution_count": 60,
   "id": "d904471a",
   "metadata": {},
   "outputs": [
    {
     "data": {
      "text/plain": [
       "{'studying whole': 5,\n",
       " 'whole night': 7,\n",
       " 'night exam': 3,\n",
       " 'exam got': 0,\n",
       " 'got passed': 2,\n",
       " 'studying whole night': 6,\n",
       " 'whole night exam': 8,\n",
       " 'night exam got': 4,\n",
       " 'exam got passed': 1}"
      ]
     },
     "execution_count": 60,
     "metadata": {},
     "output_type": "execute_result"
    }
   ],
   "source": [
    "cv.vocabulary_"
   ]
  },
  {
   "cell_type": "code",
   "execution_count": 61,
   "id": "4c6a6afb",
   "metadata": {},
   "outputs": [
    {
     "data": {
      "text/plain": [
       "'studying whole night exam got passed .'"
      ]
     },
     "execution_count": 61,
     "metadata": {},
     "output_type": "execute_result"
    }
   ],
   "source": [
    "corp[0]"
   ]
  },
  {
   "cell_type": "code",
   "execution_count": 62,
   "id": "12f13f08",
   "metadata": {},
   "outputs": [
    {
     "data": {
      "text/plain": [
       "array([[1, 1, 1, 1, 1, 1, 1, 1, 1]], dtype=int64)"
      ]
     },
     "execution_count": 62,
     "metadata": {},
     "output_type": "execute_result"
    }
   ],
   "source": [
    "x[0].toarray()"
   ]
  },
  {
   "cell_type": "code",
   "execution_count": null,
   "id": "d264c2d3",
   "metadata": {},
   "outputs": [],
   "source": []
  }
 ],
 "metadata": {
  "kernelspec": {
   "display_name": "Python 3 (ipykernel)",
   "language": "python",
   "name": "python3"
  },
  "language_info": {
   "codemirror_mode": {
    "name": "ipython",
    "version": 3
   },
   "file_extension": ".py",
   "mimetype": "text/x-python",
   "name": "python",
   "nbconvert_exporter": "python",
   "pygments_lexer": "ipython3",
   "version": "3.9.7"
  }
 },
 "nbformat": 4,
 "nbformat_minor": 5
}
